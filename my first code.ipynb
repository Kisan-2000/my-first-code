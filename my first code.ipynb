{
 "cells": [
  {
   "cell_type": "code",
   "execution_count": 1,
   "id": "628a2b71-7f0e-4f45-b2c9-8d637ab577df",
   "metadata": {},
   "outputs": [],
   "source": [
    "A = 5"
   ]
  },
  {
   "cell_type": "code",
   "execution_count": 3,
   "id": "6e14d284-c7fe-47cb-855c-534d8b5922a0",
   "metadata": {},
   "outputs": [
    {
     "data": {
      "text/plain": [
       "5"
      ]
     },
     "execution_count": 3,
     "metadata": {},
     "output_type": "execute_result"
    }
   ],
   "source": [
    "A"
   ]
  },
  {
   "cell_type": "markdown",
   "id": "da63cc35-3d9a-4996-b680-773f0a21dbad",
   "metadata": {},
   "source": [
    "# my\n"
   ]
  },
  {
   "attachments": {},
   "cell_type": "markdown",
   "id": "afb0fea9-f427-434c-b9b7-75688cb7eb95",
   "metadata": {},
   "source": [
    "### MY\n",
    "\n"
   ]
  },
  {
   "cell_type": "code",
   "execution_count": 4,
   "id": "0613e5fe-2bac-488f-89aa-ac3928a571da",
   "metadata": {},
   "outputs": [],
   "source": [
    "### MY"
   ]
  },
  {
   "cell_type": "raw",
   "id": "77c3992e-7c17-400c-a0c1-138a9ef87162",
   "metadata": {},
   "source": [
    "this is tmy first code\n"
   ]
  },
  {
   "cell_type": "code",
   "execution_count": null,
   "id": "76402018-c197-46ef-9a3a-d0ebb46023e2",
   "metadata": {},
   "outputs": [],
   "source": []
  }
 ],
 "metadata": {
  "kernelspec": {
   "display_name": "Python 3 (ipykernel)",
   "language": "python",
   "name": "python3"
  },
  "language_info": {
   "codemirror_mode": {
    "name": "ipython",
    "version": 3
   },
   "file_extension": ".py",
   "mimetype": "text/x-python",
   "name": "python",
   "nbconvert_exporter": "python",
   "pygments_lexer": "ipython3",
   "version": "3.13.0"
  }
 },
 "nbformat": 4,
 "nbformat_minor": 5
}
